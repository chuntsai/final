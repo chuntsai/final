{
 "cells": [
  {
   "cell_type": "code",
   "execution_count": 1,
   "metadata": {
    "collapsed": false,
    "nbpresent": {
     "id": "76afa3ba-248b-4e2d-b4ad-7e94635be625"
    }
   },
   "outputs": [
    {
     "name": "stdout",
     "output_type": "stream",
     "text": [
      "Extracting data/train-images-idx3-ubyte.gz\n",
      "Extracting data/train-labels-idx1-ubyte.gz\n",
      "Extracting data/t10k-images-idx3-ubyte.gz\n",
      "Extracting data/t10k-labels-idx1-ubyte.gz\n",
      "取排列第 8906 張圖片\n",
      "(55000, 784)\n",
      "(55000, 10)\n",
      "(10000, 784)\n",
      "(10000, 10)\n",
      "---\n",
      "3\n"
     ]
    }
   ],
   "source": [
    "from tensorflow.examples.tutorials.mnist import input_data\n",
    "import random\n",
    "import numpy as np\n",
    "\n",
    "# 讀入資料\n",
    "mnist = input_data.read_data_sets(\"data/\", one_hot = True)\n",
    "x_train = mnist.train.images\n",
    "y_train = mnist.train.labels\n",
    "x_test = mnist.test.images\n",
    "y_test = mnist.test.labels\n",
    "getint = random.randint(1,10001) # 1~10000隨機\n",
    "print(\"取排列第\" , getint , \"張圖片\")\n",
    "# 檢視結構\n",
    "print(x_train.shape)\n",
    "print(y_train.shape)\n",
    "print(x_test.shape)\n",
    "print(y_test.shape)\n",
    "print(\"---\")\n",
    "\n",
    "# 檢視一個觀測值\n",
    "#print(x_train[1, :])\n",
    "print(np.argmax(y_train[getint, :])) # 隨機一張訓練圖片的真實答案"
   ]
  },
  {
   "cell_type": "code",
   "execution_count": 2,
   "metadata": {
    "collapsed": false,
    "nbpresent": {
     "id": "c7369f10-0566-4025-bb74-50f85f49ac42"
    }
   },
   "outputs": [
    {
     "name": "stdout",
     "output_type": "stream",
     "text": [
      "Extracting data/train-images-idx3-ubyte.gz\n",
      "Extracting data/train-labels-idx1-ubyte.gz\n",
      "Extracting data/t10k-images-idx3-ubyte.gz\n",
      "Extracting data/t10k-labels-idx1-ubyte.gz\n"
     ]
    },
    {
     "data": {
      "image/png": "[encoded data removed]",
      "text/plain": [
       "<matplotlib.figure.Figure at 0xad045c0>"
      ]
     },
     "metadata": {},
     "output_type": "display_data"
    }
   ],
   "source": [
    "from tensorflow.examples.tutorials.mnist import input_data\n",
    "import numpy as np\n",
    "import matplotlib.pyplot as plt\n",
    "\n",
    "%matplotlib inline\n",
    "\n",
    "# 讀入 MNIST\n",
    "mnist = input_data.read_data_sets(\"data/\", one_hot = True)\n",
    "x_train = mnist.train.images\n",
    "\n",
    "# 印出\n",
    "first_train_img = np.reshape(x_train[getint, :], (28, 28))\n",
    "plt.matshow(first_train_img, cmap = plt.get_cmap('gray'))\n",
    "plt.show()"
   ]
  },
  {
   "cell_type": "code",
   "execution_count": 3,
   "metadata": {
    "collapsed": false,
    "nbpresent": {
     "id": "d55b2965-3fe6-491e-a240-007381962b80"
    }
   },
   "outputs": [
    {
     "name": "stdout",
     "output_type": "stream",
     "text": [
      "Extracting data/train-images-idx3-ubyte.gz\n",
      "Extracting data/train-labels-idx1-ubyte.gz\n",
      "Extracting data/t10k-images-idx3-ubyte.gz\n",
      "Extracting data/t10k-labels-idx1-ubyte.gz\n",
      "1.80715\n",
      "0.232697\n",
      "0.130667\n",
      "0.115492\n",
      "0.270667\n",
      "0.136003\n",
      "0.178085\n",
      "0.260845\n",
      "0.213334\n",
      "0.258556\n",
      "0.280984\n",
      "---\n",
      "準確率:  0.9223\n"
     ]
    }
   ],
   "source": [
    "import tensorflow as tf\n",
    "from tensorflow.examples.tutorials.mnist import input_data\n",
    "\n",
    "# 讀入 MNIST\n",
    "mnist = input_data.read_data_sets(\"data/\", one_hot = True)\n",
    "x_train = mnist.train.images\n",
    "y_train = mnist.train.labels\n",
    "x_test = mnist.test.images\n",
    "y_test = mnist.test.labels\n",
    "\n",
    "# 設定參數\n",
    "learning_rate = 0.5\n",
    "training_steps = 55000\n",
    "batch_size = 100\n",
    "logs_path = 'TensorBoard/'\n",
    "n_features = x_train.shape[1]\n",
    "n_labels = y_train.shape[1]\n",
    "\n",
    "# 建立 Feeds\n",
    "with tf.name_scope('Inputs'):\n",
    "    x = tf.placeholder(tf.float32, [None, n_features], name = 'Input_Data')\n",
    "with tf.name_scope('Labels'):\n",
    "    y = tf.placeholder(tf.float32, [None, n_labels], name = 'Label_Data')\n",
    "\n",
    "# 建立 Variables\n",
    "with tf.name_scope('ModelParameters'):\n",
    "    W = tf.Variable(tf.zeros([n_features, n_labels]), name = 'Weights')\n",
    "    b = tf.Variable(tf.zeros([n_labels]), name = 'Bias')\n",
    "\n",
    "# 開始建構深度學習模型\n",
    "with tf.name_scope('Model'):\n",
    "    # Softmax\n",
    "    prediction = tf.nn.softmax(tf.matmul(x, W) + b)\n",
    "with tf.name_scope('CrossEntropy'):\n",
    "    # Cross-entropy\n",
    "    loss = tf.reduce_mean(-tf.reduce_sum(y * tf.log(prediction), reduction_indices = 1))\n",
    "    tf.summary.scalar(\"Loss\", loss)\n",
    "with tf.name_scope('GradientDescent'):\n",
    "    # Gradient Descent\n",
    "    optimizer = tf.train.GradientDescentOptimizer(learning_rate).minimize(loss)\n",
    "with tf.name_scope('Accuracy'):\n",
    "    correct_prediction = tf.equal(tf.argmax(prediction, 1), tf.argmax(y, 1))\n",
    "    acc = tf.reduce_mean(tf.cast(correct_prediction, tf.float32))\n",
    "    tf.summary.scalar('Accuracy', acc)\n",
    "\n",
    "# 初始化\n",
    "init = tf.global_variables_initializer()\n",
    "\n",
    "# 開始執行運算\n",
    "sess = tf.Session()\n",
    "sess.run(init)\n",
    "\n",
    "# 將視覺化輸出\n",
    "merged = tf.summary.merge_all()\n",
    "writer = tf.summary.FileWriter(logs_path, graph = tf.get_default_graph())\n",
    "\n",
    "# 訓練\n",
    "for step in range(training_steps):\n",
    "    batch_xs, batch_ys = mnist.train.next_batch(batch_size)\n",
    "    sess.run(optimizer, feed_dict = {x: batch_xs, y: batch_ys})\n",
    "    if step % 5000 == 0:\n",
    "        print(sess.run(loss, feed_dict = {x: batch_xs, y: batch_ys}))\n",
    "        summary = sess.run(merged, feed_dict = {x: batch_xs, y: batch_ys})\n",
    "        writer.add_summary(summary, step)\n",
    "\n",
    "print(\"---\")\n",
    "# 準確率\n",
    "print(\"準確率: \", sess.run(acc, feed_dict={x: x_test, y: y_test}))\n",
    "\n",
    "sess.close()"
   ]
  }
 ],
 "metadata": {
  "anaconda-cloud": {},
  "kernelspec": {
   "display_name": "Python [Root]",
   "language": "python",
   "name": "Python [Root]"
  },
  "language_info": {
   "codemirror_mode": {
    "name": "ipython",
    "version": 3
   },
   "file_extension": ".py",
   "mimetype": "text/x-python",
   "name": "python",
   "nbconvert_exporter": "python",
   "pygments_lexer": "ipython3",
   "version": "3.5.1"
  }
 },
 "nbformat": 4,
 "nbformat_minor": 2
}
